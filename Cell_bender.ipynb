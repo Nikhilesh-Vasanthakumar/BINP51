{
 "cells": [
  {
   "cell_type": "code",
   "execution_count": null,
   "id": "initial_id",
   "metadata": {
    "collapsed": true
   },
   "outputs": [],
   "source": [
    "import anndata\n",
    "import matplotlib\n",
    "import matplotlib.pyplot as plt\n",
    "import numpy as np\n",
    "import pandas as pd\n",
    "import requests\n",
    "import scanpy as sc\n",
    "import sklearn.decomposition #import TruncatedSVD\n",
    "import scipy \n",
    "import sparse, io\n",
    "import os \n",
    "matplotlib.rcParams.update({'font.size': 12})\n",
    "%config InlineBackend.figure_format = 'retina'\n",
    "#Load the data\n",
    "adata_pl=anndata.read_h5ad('/home/nikvaku/snic2022-6-312/LabMemberScratchDir/Nikhilesh/Raw_data/Anno/Pw_spleenR1.h5ad')\n",
    "count_matrix=adata_pl.X"
   ]
  },
  {
   "cell_type": "code",
   "execution_count": 1,
   "outputs": [
    {
     "ename": "NameError",
     "evalue": "name 'anndata' is not defined",
     "output_type": "error",
     "traceback": [
      "\u001B[0;31m---------------------------------------------------------------------------\u001B[0m",
      "\u001B[0;31mNameError\u001B[0m                                 Traceback (most recent call last)",
      "Cell \u001B[0;32mIn[1], line 2\u001B[0m\n\u001B[1;32m      1\u001B[0m \u001B[38;5;66;03m#Write the count matrix to a file as a .h5 file\u001B[39;00m\n\u001B[0;32m----> 2\u001B[0m \u001B[43manndata\u001B[49m\u001B[38;5;241m.\u001B[39mwrite_h5ad(adata_pl,\u001B[38;5;124m'\u001B[39m\u001B[38;5;124m/home/nikvaku/snic2022-6-312/LabMemberScratchDir/Nikhilesh/Raw_data/Anno/Pw_spleenR1_matrix.h5ad\u001B[39m\u001B[38;5;124m'\u001B[39m)\n",
      "\u001B[0;31mNameError\u001B[0m: name 'anndata' is not defined"
     ]
    }
   ],
   "source": [
    "#Write the count matrix to a file as a .h5 file\n",
    "anndata.write_h5ad(adata_pl,'/home/nikvaku/snic2022-6-312/LabMemberScratchDir/Nikhilesh/Raw_data/Anno/Pw_spleenR1_matrix.h5ad')"
   ],
   "metadata": {
    "collapsed": false,
    "ExecuteTime": {
     "end_time": "2023-10-12T11:02:53.107647254Z",
     "start_time": "2023-10-12T11:02:52.840359669Z"
    }
   },
   "id": "26c78ccd5be568e"
  },
  {
   "cell_type": "code",
   "execution_count": null,
   "outputs": [],
   "source": [],
   "metadata": {
    "collapsed": false
   },
   "id": "dd6bf424f0cd72b"
  }
 ],
 "metadata": {
  "kernelspec": {
   "display_name": "Python 3",
   "language": "python",
   "name": "python3"
  },
  "language_info": {
   "codemirror_mode": {
    "name": "ipython",
    "version": 2
   },
   "file_extension": ".py",
   "mimetype": "text/x-python",
   "name": "python",
   "nbconvert_exporter": "python",
   "pygments_lexer": "ipython2",
   "version": "2.7.6"
  }
 },
 "nbformat": 4,
 "nbformat_minor": 5
}
