{
 "cells": [
  {
   "cell_type": "code",
   "execution_count": 7,
   "id": "initial_id",
   "metadata": {
    "collapsed": true,
    "ExecuteTime": {
     "end_time": "2023-10-04T08:28:17.271722998Z",
     "start_time": "2023-10-04T08:28:16.795329989Z"
    }
   },
   "outputs": [
    {
     "ename": "NotADirectoryError",
     "evalue": "[Errno 20] Not a directory: '/home/nikvaku/Apps/mambaforge-pypy3/envs/SAMap/lib/python3.9/site-packages/argon2_cffi_bindings-21.2.0.dist-info'",
     "output_type": "error",
     "traceback": [
      "\u001B[0;31m---------------------------------------------------------------------------\u001B[0m",
      "\u001B[0;31mNotADirectoryError\u001B[0m                        Traceback (most recent call last)",
      "Cell \u001B[0;32mIn[7], line 1\u001B[0m\n\u001B[0;32m----> 1\u001B[0m \u001B[38;5;28;01mimport\u001B[39;00m \u001B[38;5;21;01mscanpy\u001B[39;00m \u001B[38;5;28;01mas\u001B[39;00m \u001B[38;5;21;01msc\u001B[39;00m\n\u001B[1;32m      2\u001B[0m \u001B[38;5;28;01mimport\u001B[39;00m \u001B[38;5;21;01mpandas\u001B[39;00m \u001B[38;5;28;01mas\u001B[39;00m \u001B[38;5;21;01mpd\u001B[39;00m\n\u001B[1;32m      3\u001B[0m \u001B[38;5;28;01mimport\u001B[39;00m \u001B[38;5;21;01mseaborn\u001B[39;00m \u001B[38;5;28;01mas\u001B[39;00m \u001B[38;5;21;01msns\u001B[39;00m\n",
      "File \u001B[0;32m~/.local/lib/python3.9/site-packages/scanpy/__init__.py:17\u001B[0m\n\u001B[1;32m     15\u001B[0m \u001B[38;5;28;01mfrom\u001B[39;00m \u001B[38;5;21;01m.\u001B[39;00m \u001B[38;5;28;01mimport\u001B[39;00m preprocessing \u001B[38;5;28;01mas\u001B[39;00m pp\n\u001B[1;32m     16\u001B[0m \u001B[38;5;28;01mfrom\u001B[39;00m \u001B[38;5;21;01m.\u001B[39;00m \u001B[38;5;28;01mimport\u001B[39;00m plotting \u001B[38;5;28;01mas\u001B[39;00m pl\n\u001B[0;32m---> 17\u001B[0m \u001B[38;5;28;01mfrom\u001B[39;00m \u001B[38;5;21;01m.\u001B[39;00m \u001B[38;5;28;01mimport\u001B[39;00m datasets, logging, queries, external, get, metrics, experimental\n\u001B[1;32m     19\u001B[0m \u001B[38;5;28;01mfrom\u001B[39;00m \u001B[38;5;21;01manndata\u001B[39;00m \u001B[38;5;28;01mimport\u001B[39;00m AnnData, concat\n\u001B[1;32m     20\u001B[0m \u001B[38;5;28;01mfrom\u001B[39;00m \u001B[38;5;21;01manndata\u001B[39;00m \u001B[38;5;28;01mimport\u001B[39;00m (\n\u001B[1;32m     21\u001B[0m     read_h5ad,\n\u001B[1;32m     22\u001B[0m     read_csv,\n\u001B[0;32m   (...)\u001B[0m\n\u001B[1;32m     28\u001B[0m     read_umi_tools,\n\u001B[1;32m     29\u001B[0m )\n",
      "File \u001B[0;32m~/.local/lib/python3.9/site-packages/scanpy/external/__init__.py:1\u001B[0m\n\u001B[0;32m----> 1\u001B[0m \u001B[38;5;28;01mfrom\u001B[39;00m \u001B[38;5;21;01m.\u001B[39;00m \u001B[38;5;28;01mimport\u001B[39;00m tl\n\u001B[1;32m      2\u001B[0m \u001B[38;5;28;01mfrom\u001B[39;00m \u001B[38;5;21;01m.\u001B[39;00m \u001B[38;5;28;01mimport\u001B[39;00m pl\n\u001B[1;32m      3\u001B[0m \u001B[38;5;28;01mfrom\u001B[39;00m \u001B[38;5;21;01m.\u001B[39;00m \u001B[38;5;28;01mimport\u001B[39;00m pp\n",
      "File \u001B[0;32m~/.local/lib/python3.9/site-packages/scanpy/external/tl/__init__.py:7\u001B[0m\n\u001B[1;32m      5\u001B[0m \u001B[38;5;28;01mfrom\u001B[39;00m \u001B[38;5;21;01m.\u001B[39;00m\u001B[38;5;21;01m_trimap\u001B[39;00m \u001B[38;5;28;01mimport\u001B[39;00m trimap\n\u001B[1;32m      6\u001B[0m \u001B[38;5;28;01mfrom\u001B[39;00m \u001B[38;5;21;01m.\u001B[39;00m\u001B[38;5;21;01m_harmony_timeseries\u001B[39;00m \u001B[38;5;28;01mimport\u001B[39;00m harmony_timeseries\n\u001B[0;32m----> 7\u001B[0m \u001B[38;5;28;01mfrom\u001B[39;00m \u001B[38;5;21;01m.\u001B[39;00m\u001B[38;5;21;01m_sam\u001B[39;00m \u001B[38;5;28;01mimport\u001B[39;00m sam\n\u001B[1;32m      8\u001B[0m \u001B[38;5;28;01mfrom\u001B[39;00m \u001B[38;5;21;01m.\u001B[39;00m\u001B[38;5;21;01m_wishbone\u001B[39;00m \u001B[38;5;28;01mimport\u001B[39;00m wishbone\n",
      "File \u001B[0;32m~/.local/lib/python3.9/site-packages/scanpy/external/tl/_sam.py:12\u001B[0m\n\u001B[1;32m      9\u001B[0m \u001B[38;5;28;01mfrom\u001B[39;00m \u001B[38;5;21;01m.\u001B[39;00m\u001B[38;5;21;01m.\u001B[39;00m\u001B[38;5;21;01m.\u001B[39;00m\u001B[38;5;21;01m_compat\u001B[39;00m \u001B[38;5;28;01mimport\u001B[39;00m Literal\n\u001B[1;32m     11\u001B[0m \u001B[38;5;28;01mtry\u001B[39;00m:\n\u001B[0;32m---> 12\u001B[0m     \u001B[38;5;28;01mfrom\u001B[39;00m \u001B[38;5;21;01msamalg\u001B[39;00m \u001B[38;5;28;01mimport\u001B[39;00m SAM\n\u001B[1;32m     13\u001B[0m \u001B[38;5;28;01mexcept\u001B[39;00m \u001B[38;5;167;01mImportError\u001B[39;00m:\n\u001B[1;32m     14\u001B[0m     SAM \u001B[38;5;241m=\u001B[39m Any\n",
      "File \u001B[0;32m~/.local/lib/python3.9/site-packages/samalg/__init__.py:10\u001B[0m\n\u001B[1;32m      8\u001B[0m \u001B[38;5;28;01mimport\u001B[39;00m \u001B[38;5;21;01mpickle\u001B[39;00m\n\u001B[1;32m      9\u001B[0m \u001B[38;5;28;01mimport\u001B[39;00m \u001B[38;5;21;01mpandas\u001B[39;00m \u001B[38;5;28;01mas\u001B[39;00m \u001B[38;5;21;01mpd\u001B[39;00m\n\u001B[0;32m---> 10\u001B[0m \u001B[38;5;28;01mfrom\u001B[39;00m \u001B[38;5;21;01m.\u001B[39;00m \u001B[38;5;28;01mimport\u001B[39;00m utilities \u001B[38;5;28;01mas\u001B[39;00m ut\n\u001B[1;32m     11\u001B[0m \u001B[38;5;28;01mimport\u001B[39;00m \u001B[38;5;21;01msklearn\u001B[39;00m\u001B[38;5;21;01m.\u001B[39;00m\u001B[38;5;21;01mmanifold\u001B[39;00m \u001B[38;5;28;01mas\u001B[39;00m \u001B[38;5;21;01mman\u001B[39;00m\n\u001B[1;32m     12\u001B[0m \u001B[38;5;28;01mimport\u001B[39;00m \u001B[38;5;21;01msklearn\u001B[39;00m\u001B[38;5;21;01m.\u001B[39;00m\u001B[38;5;21;01mutils\u001B[39;00m\u001B[38;5;21;01m.\u001B[39;00m\u001B[38;5;21;01msparsefuncs\u001B[39;00m \u001B[38;5;28;01mas\u001B[39;00m \u001B[38;5;21;01msf\u001B[39;00m\n",
      "File \u001B[0;32m~/.local/lib/python3.9/site-packages/samalg/utilities.py:7\u001B[0m\n\u001B[1;32m      5\u001B[0m \u001B[38;5;28;01mimport\u001B[39;00m \u001B[38;5;21;01merrno\u001B[39;00m\n\u001B[1;32m      6\u001B[0m \u001B[38;5;28;01mfrom\u001B[39;00m \u001B[38;5;21;01msklearn\u001B[39;00m\u001B[38;5;21;01m.\u001B[39;00m\u001B[38;5;21;01mdecomposition\u001B[39;00m \u001B[38;5;28;01mimport\u001B[39;00m PCA\n\u001B[0;32m----> 7\u001B[0m \u001B[38;5;28;01mimport\u001B[39;00m \u001B[38;5;21;01mumap\u001B[39;00m\u001B[38;5;21;01m.\u001B[39;00m\u001B[38;5;21;01mdistances\u001B[39;00m \u001B[38;5;28;01mas\u001B[39;00m \u001B[38;5;21;01mdist\u001B[39;00m\n\u001B[1;32m      8\u001B[0m \u001B[38;5;28;01mfrom\u001B[39;00m \u001B[38;5;21;01msklearn\u001B[39;00m\u001B[38;5;21;01m.\u001B[39;00m\u001B[38;5;21;01mutils\u001B[39;00m\u001B[38;5;21;01m.\u001B[39;00m\u001B[38;5;21;01mextmath\u001B[39;00m \u001B[38;5;28;01mimport\u001B[39;00m svd_flip\n\u001B[1;32m      9\u001B[0m \u001B[38;5;28;01mfrom\u001B[39;00m \u001B[38;5;21;01msklearn\u001B[39;00m\u001B[38;5;21;01m.\u001B[39;00m\u001B[38;5;21;01mutils\u001B[39;00m \u001B[38;5;28;01mimport\u001B[39;00m check_array, check_random_state\n",
      "File \u001B[0;32m~/.local/lib/python3.9/site-packages/umap/__init__.py:36\u001B[0m\n\u001B[1;32m     33\u001B[0m \u001B[38;5;66;03m# Workaround: https://github.com/numba/numba/issues/3341\u001B[39;00m\n\u001B[1;32m     34\u001B[0m \u001B[38;5;28;01mimport\u001B[39;00m \u001B[38;5;21;01mnumba\u001B[39;00m\n\u001B[0;32m---> 36\u001B[0m \u001B[38;5;28;01mimport\u001B[39;00m \u001B[38;5;21;01mpkg_resources\u001B[39;00m\n\u001B[1;32m     38\u001B[0m \u001B[38;5;28;01mtry\u001B[39;00m:\n\u001B[1;32m     39\u001B[0m     __version__ \u001B[38;5;241m=\u001B[39m pkg_resources\u001B[38;5;241m.\u001B[39mget_distribution(\u001B[38;5;124m\"\u001B[39m\u001B[38;5;124mumap-learn\u001B[39m\u001B[38;5;124m\"\u001B[39m)\u001B[38;5;241m.\u001B[39mversion\n",
      "File \u001B[0;32m~/Apps/mambaforge-pypy3/envs/SAMap/lib/python3.9/site-packages/pkg_resources/__init__.py:3328\u001B[0m\n\u001B[1;32m   3318\u001B[0m \u001B[38;5;28;01mclass\u001B[39;00m \u001B[38;5;21;01mPkgResourcesDeprecationWarning\u001B[39;00m(\u001B[38;5;167;01mWarning\u001B[39;00m):\n\u001B[1;32m   3319\u001B[0m \u001B[38;5;250m    \u001B[39m\u001B[38;5;124;03m\"\"\"\u001B[39;00m\n\u001B[1;32m   3320\u001B[0m \u001B[38;5;124;03m    Base class for warning about deprecations in ``pkg_resources``\u001B[39;00m\n\u001B[1;32m   3321\u001B[0m \n\u001B[1;32m   3322\u001B[0m \u001B[38;5;124;03m    This class is not derived from ``DeprecationWarning``, and as such is\u001B[39;00m\n\u001B[1;32m   3323\u001B[0m \u001B[38;5;124;03m    visible by default.\u001B[39;00m\n\u001B[1;32m   3324\u001B[0m \u001B[38;5;124;03m    \"\"\"\u001B[39;00m\n\u001B[1;32m   3327\u001B[0m \u001B[38;5;129;43m@_call_aside\u001B[39;49m\n\u001B[0;32m-> 3328\u001B[0m \u001B[38;5;28;43;01mdef\u001B[39;49;00m\u001B[43m \u001B[49m\u001B[38;5;21;43m_initialize_master_working_set\u001B[39;49m\u001B[43m(\u001B[49m\u001B[43m)\u001B[49m\u001B[43m:\u001B[49m\n\u001B[1;32m   3329\u001B[0m \u001B[38;5;250;43m    \u001B[39;49m\u001B[38;5;124;43;03m\"\"\"\u001B[39;49;00m\n\u001B[1;32m   3330\u001B[0m \u001B[38;5;124;43;03m    Prepare the master working set and make the ``require()``\u001B[39;49;00m\n\u001B[1;32m   3331\u001B[0m \u001B[38;5;124;43;03m    API available.\u001B[39;49;00m\n\u001B[0;32m   (...)\u001B[0m\n\u001B[1;32m   3338\u001B[0m \u001B[38;5;124;43;03m    at their own risk.\u001B[39;49;00m\n\u001B[1;32m   3339\u001B[0m \u001B[38;5;124;43;03m    \"\"\"\u001B[39;49;00m\n\u001B[1;32m   3340\u001B[0m \u001B[43m    \u001B[49m\u001B[43mworking_set\u001B[49m\u001B[43m \u001B[49m\u001B[38;5;241;43m=\u001B[39;49m\u001B[43m \u001B[49m\u001B[43mWorkingSet\u001B[49m\u001B[38;5;241;43m.\u001B[39;49m\u001B[43m_build_master\u001B[49m\u001B[43m(\u001B[49m\u001B[43m)\u001B[49m\n",
      "File \u001B[0;32m~/Apps/mambaforge-pypy3/envs/SAMap/lib/python3.9/site-packages/pkg_resources/__init__.py:3302\u001B[0m, in \u001B[0;36m_call_aside\u001B[0;34m(f, *args, **kwargs)\u001B[0m\n\u001B[1;32m   3301\u001B[0m \u001B[38;5;28;01mdef\u001B[39;00m \u001B[38;5;21m_call_aside\u001B[39m(f, \u001B[38;5;241m*\u001B[39margs, \u001B[38;5;241m*\u001B[39m\u001B[38;5;241m*\u001B[39mkwargs):\n\u001B[0;32m-> 3302\u001B[0m     \u001B[43mf\u001B[49m\u001B[43m(\u001B[49m\u001B[38;5;241;43m*\u001B[39;49m\u001B[43margs\u001B[49m\u001B[43m,\u001B[49m\u001B[43m \u001B[49m\u001B[38;5;241;43m*\u001B[39;49m\u001B[38;5;241;43m*\u001B[39;49m\u001B[43mkwargs\u001B[49m\u001B[43m)\u001B[49m\n\u001B[1;32m   3303\u001B[0m     \u001B[38;5;28;01mreturn\u001B[39;00m f\n",
      "File \u001B[0;32m~/Apps/mambaforge-pypy3/envs/SAMap/lib/python3.9/site-packages/pkg_resources/__init__.py:3340\u001B[0m, in \u001B[0;36m_initialize_master_working_set\u001B[0;34m()\u001B[0m\n\u001B[1;32m   3327\u001B[0m \u001B[38;5;129m@_call_aside\u001B[39m\n\u001B[1;32m   3328\u001B[0m \u001B[38;5;28;01mdef\u001B[39;00m \u001B[38;5;21m_initialize_master_working_set\u001B[39m():\n\u001B[1;32m   3329\u001B[0m \u001B[38;5;250m    \u001B[39m\u001B[38;5;124;03m\"\"\"\u001B[39;00m\n\u001B[1;32m   3330\u001B[0m \u001B[38;5;124;03m    Prepare the master working set and make the ``require()``\u001B[39;00m\n\u001B[1;32m   3331\u001B[0m \u001B[38;5;124;03m    API available.\u001B[39;00m\n\u001B[0;32m   (...)\u001B[0m\n\u001B[1;32m   3338\u001B[0m \u001B[38;5;124;03m    at their own risk.\u001B[39;00m\n\u001B[1;32m   3339\u001B[0m \u001B[38;5;124;03m    \"\"\"\u001B[39;00m\n\u001B[0;32m-> 3340\u001B[0m     working_set \u001B[38;5;241m=\u001B[39m \u001B[43mWorkingSet\u001B[49m\u001B[38;5;241;43m.\u001B[39;49m\u001B[43m_build_master\u001B[49m\u001B[43m(\u001B[49m\u001B[43m)\u001B[49m\n\u001B[1;32m   3341\u001B[0m     _declare_state(\u001B[38;5;124m'\u001B[39m\u001B[38;5;124mobject\u001B[39m\u001B[38;5;124m'\u001B[39m, working_set\u001B[38;5;241m=\u001B[39mworking_set)\n\u001B[1;32m   3343\u001B[0m     require \u001B[38;5;241m=\u001B[39m working_set\u001B[38;5;241m.\u001B[39mrequire\n",
      "File \u001B[0;32m~/Apps/mambaforge-pypy3/envs/SAMap/lib/python3.9/site-packages/pkg_resources/__init__.py:622\u001B[0m, in \u001B[0;36mWorkingSet._build_master\u001B[0;34m(cls)\u001B[0m\n\u001B[1;32m    617\u001B[0m \u001B[38;5;129m@classmethod\u001B[39m\n\u001B[1;32m    618\u001B[0m \u001B[38;5;28;01mdef\u001B[39;00m \u001B[38;5;21m_build_master\u001B[39m(\u001B[38;5;28mcls\u001B[39m):\n\u001B[1;32m    619\u001B[0m \u001B[38;5;250m    \u001B[39m\u001B[38;5;124;03m\"\"\"\u001B[39;00m\n\u001B[1;32m    620\u001B[0m \u001B[38;5;124;03m    Prepare the master working set.\u001B[39;00m\n\u001B[1;32m    621\u001B[0m \u001B[38;5;124;03m    \"\"\"\u001B[39;00m\n\u001B[0;32m--> 622\u001B[0m     ws \u001B[38;5;241m=\u001B[39m \u001B[38;5;28;43mcls\u001B[39;49m\u001B[43m(\u001B[49m\u001B[43m)\u001B[49m\n\u001B[1;32m    623\u001B[0m     \u001B[38;5;28;01mtry\u001B[39;00m:\n\u001B[1;32m    624\u001B[0m         \u001B[38;5;28;01mfrom\u001B[39;00m \u001B[38;5;21;01m__main__\u001B[39;00m \u001B[38;5;28;01mimport\u001B[39;00m __requires__\n",
      "File \u001B[0;32m~/Apps/mambaforge-pypy3/envs/SAMap/lib/python3.9/site-packages/pkg_resources/__init__.py:615\u001B[0m, in \u001B[0;36mWorkingSet.__init__\u001B[0;34m(self, entries)\u001B[0m\n\u001B[1;32m    612\u001B[0m     entries \u001B[38;5;241m=\u001B[39m sys\u001B[38;5;241m.\u001B[39mpath\n\u001B[1;32m    614\u001B[0m \u001B[38;5;28;01mfor\u001B[39;00m entry \u001B[38;5;129;01min\u001B[39;00m entries:\n\u001B[0;32m--> 615\u001B[0m     \u001B[38;5;28;43mself\u001B[39;49m\u001B[38;5;241;43m.\u001B[39;49m\u001B[43madd_entry\u001B[49m\u001B[43m(\u001B[49m\u001B[43mentry\u001B[49m\u001B[43m)\u001B[49m\n",
      "File \u001B[0;32m~/Apps/mambaforge-pypy3/envs/SAMap/lib/python3.9/site-packages/pkg_resources/__init__.py:671\u001B[0m, in \u001B[0;36mWorkingSet.add_entry\u001B[0;34m(self, entry)\u001B[0m\n\u001B[1;32m    669\u001B[0m \u001B[38;5;28mself\u001B[39m\u001B[38;5;241m.\u001B[39mentry_keys\u001B[38;5;241m.\u001B[39msetdefault(entry, [])\n\u001B[1;32m    670\u001B[0m \u001B[38;5;28mself\u001B[39m\u001B[38;5;241m.\u001B[39mentries\u001B[38;5;241m.\u001B[39mappend(entry)\n\u001B[0;32m--> 671\u001B[0m \u001B[38;5;28;01mfor\u001B[39;00m dist \u001B[38;5;129;01min\u001B[39;00m find_distributions(entry, \u001B[38;5;28;01mTrue\u001B[39;00m):\n\u001B[1;32m    672\u001B[0m     \u001B[38;5;28mself\u001B[39m\u001B[38;5;241m.\u001B[39madd(dist, entry, \u001B[38;5;28;01mFalse\u001B[39;00m)\n",
      "File \u001B[0;32m~/Apps/mambaforge-pypy3/envs/SAMap/lib/python3.9/site-packages/pkg_resources/__init__.py:2134\u001B[0m, in \u001B[0;36mfind_on_path\u001B[0;34m(importer, path_item, only)\u001B[0m\n\u001B[1;32m   2132\u001B[0m fullpath \u001B[38;5;241m=\u001B[39m os\u001B[38;5;241m.\u001B[39mpath\u001B[38;5;241m.\u001B[39mjoin(path_item, entry)\n\u001B[1;32m   2133\u001B[0m factory \u001B[38;5;241m=\u001B[39m dist_factory(path_item, entry, only)\n\u001B[0;32m-> 2134\u001B[0m \u001B[38;5;28;01mfor\u001B[39;00m dist \u001B[38;5;129;01min\u001B[39;00m factory(fullpath):\n\u001B[1;32m   2135\u001B[0m     \u001B[38;5;28;01myield\u001B[39;00m dist\n",
      "File \u001B[0;32m~/Apps/mambaforge-pypy3/envs/SAMap/lib/python3.9/site-packages/pkg_resources/__init__.py:2192\u001B[0m, in \u001B[0;36mdistributions_from_metadata\u001B[0;34m(path)\u001B[0m\n\u001B[1;32m   2190\u001B[0m root \u001B[38;5;241m=\u001B[39m os\u001B[38;5;241m.\u001B[39mpath\u001B[38;5;241m.\u001B[39mdirname(path)\n\u001B[1;32m   2191\u001B[0m \u001B[38;5;28;01mif\u001B[39;00m os\u001B[38;5;241m.\u001B[39mpath\u001B[38;5;241m.\u001B[39misdir(path):\n\u001B[0;32m-> 2192\u001B[0m     \u001B[38;5;28;01mif\u001B[39;00m \u001B[38;5;28mlen\u001B[39m(\u001B[43mos\u001B[49m\u001B[38;5;241;43m.\u001B[39;49m\u001B[43mlistdir\u001B[49m\u001B[43m(\u001B[49m\u001B[43mpath\u001B[49m\u001B[43m)\u001B[49m) \u001B[38;5;241m==\u001B[39m \u001B[38;5;241m0\u001B[39m:\n\u001B[1;32m   2193\u001B[0m         \u001B[38;5;66;03m# empty metadata dir; skip\u001B[39;00m\n\u001B[1;32m   2194\u001B[0m         \u001B[38;5;28;01mreturn\u001B[39;00m\n\u001B[1;32m   2195\u001B[0m     metadata \u001B[38;5;241m=\u001B[39m PathMetadata(root, path)\n",
      "\u001B[0;31mNotADirectoryError\u001B[0m: [Errno 20] Not a directory: '/home/nikvaku/Apps/mambaforge-pypy3/envs/SAMap/lib/python3.9/site-packages/argon2_cffi_bindings-21.2.0.dist-info'"
     ]
    }
   ],
   "source": [
    "import scanpy as sc\n",
    "import pandas as pd\n",
    "import seaborn as sns\n",
    "import anndata\n",
    "\n",
    "sc.settings.verbosity = 1             # verbosity: errors (0), warnings (1), info (2), hints (3)\n",
    "sc.logging.print_versions()\n",
    "sc.settings.set_figure_params(dpi=80, frameon=False, figsize=(3, 3), facecolor='white')"
   ]
  },
  {
   "cell_type": "code",
   "execution_count": 1,
   "outputs": [
    {
     "ename": "NameError",
     "evalue": "name 'sc' is not defined",
     "output_type": "error",
     "traceback": [
      "\u001B[0;31m---------------------------------------------------------------------------\u001B[0m",
      "\u001B[0;31mNameError\u001B[0m                                 Traceback (most recent call last)",
      "Cell \u001B[0;32mIn[1], line 2\u001B[0m\n\u001B[1;32m      1\u001B[0m \u001B[38;5;66;03m#Load in the data\u001B[39;00m\n\u001B[0;32m----> 2\u001B[0m adata_hum \u001B[38;5;241m=\u001B[39m \u001B[43msc\u001B[49m\u001B[38;5;241m.\u001B[39mread_h5ad(\u001B[38;5;124m'\u001B[39m\u001B[38;5;124m/home/nikvaku/snic2022-6-312/LabMemberScratchDir/Nikhilesh/Raw_data/Anno/Tabula_immune.h5ad\u001B[39m\u001B[38;5;124m'\u001B[39m)\n\u001B[1;32m      3\u001B[0m adata_pl \u001B[38;5;241m=\u001B[39msc\u001B[38;5;241m.\u001B[39mread_h5ad(\u001B[38;5;124m'\u001B[39m\u001B[38;5;124m/home/nikvaku/snic2022-6-312/LabMemberScratchDir/Nikhilesh/Raw_data/Anno/spleenR1.h5ad\u001B[39m\u001B[38;5;124m'\u001B[39m)\n",
      "\u001B[0;31mNameError\u001B[0m: name 'sc' is not defined"
     ]
    }
   ],
   "source": [
    "#Load in the data\n",
    "adata_hum = sc.read_h5ad('/home/nikvaku/snic2022-6-312/LabMemberScratchDir/Nikhilesh/Raw_data/Anno/Tabula_immune.h5ad')\n",
    "adata_pl =sc.read_h5ad('/home/nikvaku/snic2022-6-312/LabMemberScratchDir/Nikhilesh/Raw_data/Anno/spleenR1.h5ad')"
   ],
   "metadata": {
    "collapsed": false,
    "ExecuteTime": {
     "end_time": "2023-10-04T08:23:48.596461545Z",
     "start_time": "2023-10-04T08:23:48.310566228Z"
    }
   },
   "id": "450b4f1c97a884fa"
  },
  {
   "cell_type": "code",
   "execution_count": null,
   "outputs": [],
   "source": [],
   "metadata": {
    "collapsed": false
   },
   "id": "70ea40669f707b63"
  }
 ],
 "metadata": {
  "kernelspec": {
   "name": "samap",
   "language": "python",
   "display_name": "SAMap Environment"
  },
  "language_info": {
   "codemirror_mode": {
    "name": "ipython",
    "version": 2
   },
   "file_extension": ".py",
   "mimetype": "text/x-python",
   "name": "python",
   "nbconvert_exporter": "python",
   "pygments_lexer": "ipython2",
   "version": "2.7.6"
  }
 },
 "nbformat": 4,
 "nbformat_minor": 5
}
