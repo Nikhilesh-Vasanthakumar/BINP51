{
 "cells": [
  {
   "cell_type": "code",
   "execution_count": null,
   "metadata": {},
   "outputs": [],
   "source": [
    "import anndata\n",
    "import matplotlib\n",
    "import matplotlib.pyplot as plt\n",
    "import numpy as np\n",
    "import pandas as pd\n",
    "import requests\n",
    "import scanpy as sc\n",
    "import sklearn.decomposition #import TruncatedSVD for imputing values\n",
    "import scipy \n",
    "\n",
    "\n",
    "#Samap analysis Packages\n",
    "from samap.mapping import SAMAP\n",
    "from samap.analysis import (get_mapping_scores, GenePairFinder,\n",
    "                            sankey_plot, chord_plot, CellTypeTriangles,\n",
    "                            ParalogSubstitutions, FunctionalEnrichment,\n",
    "                            convert_eggnog_to_homologs, GeneTriangles)\n",
    "\n",
    "matplotlib.rcParams.update({'font.size': 12})\n",
    "%config InlineBackend.figure_format = 'retina'\n",
    "\n"
   ]
  },
  {
   "cell_type": "code",
   "execution_count": null,
   "metadata": {},
   "outputs": [],
   "source": [
    "org1='/home/nikvaku/snic2022-6-312/LabMemberScratchDir/Nikhilesh/Inter_data/spleen_merged_raw.h5ad'\n",
    "org2='/home/nikvaku/snic2022-6-312/LabMemberScratchDir/Nikhilesh/Raw_data/Anno/frog_laevis_raw_with_leiden_without_L&S.h5ad'\n",
    "#org3 ='/home/nikvaku/snic2022-6-312/LabMemberScratchDir/Nikhilesh/Raw_data/Anno/Tabula_immune.h5ad'\n",
    "\n",
    "filenames = {'pw':org1,'xl':org2} #Add org3 if you want to compare the three species\n",
    "sm = SAMAP(\n",
    "        filenames,\n",
    "        f_maps='/home/nikvaku/snic2022-6-312/LabMemberScratchDir/Nikhilesh/Inter_data/blast_mappings/maps/',\n",
    "        save_processed=True, #if False, do not save the processed results to `*_pr.h5ad`\n",
    "        keys = {'pw':'leiden','xl':'leiden','hs':'cell_ontology_class'},\n",
    "   )\n",
    "sm.run()\n",
    "samap = sm.samap"
   ]
  },
  {
   "cell_type": "code",
   "execution_count": null,
   "metadata": {},
   "outputs": [],
   "source": [
    "#Plotting the stiched data\n",
    "adata_combined=samap.adata\n",
    "sc.pl.umap(adata_combined,color='species')"
   ]
  },
  {
   "cell_type": "code",
   "execution_count": null,
   "metadata": {},
   "outputs": [],
   "source": [
    "#Ct and Mapping Table contains cluster alignment and score\n",
    "keys_ct = {'pw':'leiden','xl':'leiden','hs':'cell_ontology_class'} #Find mapping scores between all the three species cluster add or remove as needed\n",
    "Ct,MappingTable_ct = get_mapping_scores(sm,keys_ct,n_top = 100)"
   ]
  },
  {
   "cell_type": "code",
   "execution_count": null,
   "metadata": {},
   "outputs": [],
   "source": [
    "#Find Gene pairs in all the clusters in the species selected above\n",
    "gpf=GenePairFinder(sm,keys_ct)\n",
    "gene_pairs = gpf.find_all(align_thr=0.2)"
   ]
  },
  {
   "cell_type": "code",
   "execution_count": 1,
   "metadata": {},
   "outputs": [],
   "source": [
    "#CAN ONLY BE RUN FOR THREE SPECIES\n",
    "keys={'pw':'leiden','xl':'leiden','hs':'cell_type'}\n",
    "result = CellTypeTriangles(sm,keys,align_thr=0.15)\n",
    "result"
   ]
  },
  {
   "cell_type": "code",
   "execution_count": null,
   "metadata": {},
   "outputs": [],
   "source": []
  }
 ],
 "metadata": {
  "kernelspec": {
   "display_name": "SAMap Environment",
   "language": "python",
   "name": "samap"
  },
  "language_info": {
   "codemirror_mode": {
    "name": "ipython",
    "version": 3
   },
   "file_extension": ".py",
   "mimetype": "text/x-python",
   "name": "python",
   "nbconvert_exporter": "python",
   "pygments_lexer": "ipython3",
   "version": "3.9.18"
  }
 },
 "nbformat": 4,
 "nbformat_minor": 2
}
