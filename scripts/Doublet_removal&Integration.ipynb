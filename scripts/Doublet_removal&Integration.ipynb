{
 "cells": [
  {
   "cell_type": "code",
   "execution_count": null,
   "metadata": {},
   "outputs": [],
   "source": [
    "import scanpy as sc\n",
    "import pandas as pd\n",
    "import anndata\n",
    "import matplotlib\n",
    "import matplotlib.pyplot as plt\n",
    "import numpy as np\n",
    "import requests\n",
    "import sklearn.decomposition #import TruncatedSVD\n",
    "import scipy \n",
    "import sparse, io\n",
    "import scvi\n",
    "\n",
    "\n",
    "#Load in the raw first spleen dataset\n",
    "adata_pl_1_raw=sc.read_10x_h5(\"/home/nikvaku/snic2022-6-312/LabMemberScratchDir/Nikhilesh/Raw_data/Anno/matrix_filtered_clear/run2/output_filtered.h5\")\n",
    "\n",
    "#Load in the raw second spleen dataset\n",
    "adata_pl_2_raw= sc.read_10x_h5('/home/nikvaku/snic2022-6-312/LabMemberScratchDir/Nikhilesh/Raw_data/Anno/matrix_filtered_clear/second_spleen/output_filtered.h5')"
   ]
  },
  {
   "cell_type": "code",
   "execution_count": null,
   "metadata": {},
   "outputs": [],
   "source": [
    "#Load in the souporcell annotated spleen dataset\n",
    "souporcell_1=pd.read_table('/home/nikvaku/snic2022-6-312/LabMemberScratchDir/Nick/Pleuro/outs/20230704_spleen_R1_soup/20230603_24h_soup_res/clusters.tsv')\n",
    "souporcell_2=pd.read_table('/home/nikvaku/snic2022-6-312/LabMemberScratchDir/Nick/Pleuro/outs/20230704_spleen_R2_soup/20230603_24h_soup_res/clusters.tsv')\n",
    "#Replace the variables load in the triannotate file\n",
    "mapper=pd.read_table(\"/home/nikvaku/snic2022-6-312/LabMemberScratchDir/Nikhilesh/Raw_data/aPlwal.pri.V2.genome.annots.tsv\")\n",
    "mapper_dict = mapper.set_index('#gene_id')['EggNM.Preferred_name'].to_dict()\n",
    "status_1_mapper=dict(zip(souporcell_1['barcode'],souporcell_1['status']))\n",
    "assignment_1_mapper=dict(zip(souporcell_1['barcode'],souporcell_1['assignment']))\n",
    "status_2_mapper=dict(zip(souporcell_2['barcode'],souporcell_2['status']))\n",
    "assignment_2_mapper=dict(zip(souporcell_2['barcode'],souporcell_2['assignment']))"
   ]
  },
  {
   "cell_type": "code",
   "execution_count": null,
   "metadata": {},
   "outputs": [],
   "source": [
    "#Add in the souporcell annotation to the first and second spleen dataset\n",
    "adata_pl_1_raw.obs['status']='NA'\n",
    "adata_pl_1_raw.obs['assignment']='NA'\n",
    "adata_pl_1_raw.obs['batch']='1'\n",
    "adata_pl_2_raw.obs['status']='NA'\n",
    "adata_pl_2_raw.obs['assignment']='NA'\n",
    "adata_pl_2_raw.obs['batch']='2'\n",
    "for i in adata_pl_1_raw.obs.index:\n",
    "    if i in status_1_mapper.keys():\n",
    "        adata_pl_1_raw.obs.loc[i,'status']=status_1_mapper[i]\n",
    "        adata_pl_1_raw.obs.loc[i,'assignment']=assignment_1_mapper[i]\n",
    "for i in adata_pl_2_raw.obs.index:\n",
    "    if i in status_2_mapper.keys():\n",
    "        adata_pl_2_raw.obs.loc[i,'status']=status_2_mapper[i]\n",
    "        adata_pl_2_raw.obs.loc[i,'assignment']=assignment_2_mapper[i]"
   ]
  },
  {
   "cell_type": "code",
   "execution_count": null,
   "metadata": {},
   "outputs": [],
   "source": [
    "#Filter out the cells\n",
    "adata_pl_1_raw.var_names = [mapper_dict.get(x, x) if mapper_dict.get(x, x) != '.' else x for x in adata_pl_1_raw.var_names]\n",
    "adata_pl_2_raw.var_names = [mapper_dict.get(x, x) if mapper_dict.get(x, x) != '.' else x for x in adata_pl_2_raw.var_names]\n",
    "#Preprocess the data\n",
    "mt_gene_patterns = ['COX1', 'COX2', 'ATP8', 'ATP6', 'COX3', 'NU1M', 'NU2M', 'NU3M', 'NU4M', 'NU4LM', 'NU5M', 'NU6M', 'CYB']\n",
    "mt_gene_pattern = '|'.join(mt_gene_patterns)\n",
    "for adata in [adata_pl_1_raw, adata_pl_2_raw]:\n",
    "    sc.pp.filter_cells(adata, min_genes=400)\n",
    "    sc.pp.filter_genes(adata, min_cells=3)\n",
    "    adata.var['mt'] = adata.var_names.str.match(mt_gene_pattern)\n",
    "    sc.pp.calculate_qc_metrics(adata, qc_vars=['mt'], percent_top=None, log1p=False, inplace=True)\n",
    "    adata = adata[adata.obs.pct_counts_mt < 10, :]\n",
    "    adata.var_names_make_unique()"
   ]
  },
  {
   "cell_type": "code",
   "execution_count": null,
   "metadata": {},
   "outputs": [],
   "source": [
    "scvi.model.SCVI.setup_anndata(adata_pl_1_raw)\n",
    "vae = scvi.model.SCVI(adata_pl_1_raw)\n",
    "vae.train()\n",
    "solo = scvi.external.SOLO.from_scvi_model(vae)\n",
    "solo.train()\n",
    "df_1 = solo.predict()\n",
    "df_1['prediction'] = solo.predict(soft=False)\n",
    "\n",
    "scvi.model.SCVI.setup_anndata(adata_pl_2_raw)\n",
    "vae = scvi.model.SCVI(adata_pl_2_raw)\n",
    "vae.train()\n",
    "solo = scvi.external.SOLO.from_scvi_model(vae)\n",
    "solo.train()\n",
    "df_2 = solo.predict()\n",
    "df_2['prediction'] = solo.predict(soft=False)"
   ]
  },
  {
   "cell_type": "code",
   "execution_count": null,
   "metadata": {},
   "outputs": [],
   "source": [
    "#Remove Doublets from the second spleen dataset\n",
    "adata_pl_2_raw_dob = adata_pl_2_raw[(adata_pl_2_raw.obs['status'] == 'doublet') ]\n",
    "cellid_soup=adata_pl_2_raw_dob.obs.index\n",
    "cellid_scvi=df_2[df_2['prediction']=='doublet'].index\n",
    "common_elements = set(cellid_scvi).intersection(cellid_soup)\n",
    "cellid_scvi = set(cellid_scvi)\n",
    "cellid_soup = set(cellid_soup)\n",
    "from matplotlib_venn import venn2\n",
    "import matplotlib.pyplot as plt\n",
    "venn2([cellid_scvi, cellid_soup], ('cellid_scvi', 'cellid_soup'))\n",
    "doublets= cellid_scvi.union(cellid_soup)\n",
    "doublets=list(doublets)\n",
    "doublets_in_adata_pl_2_raw = list(set(doublets).intersection(adata_pl_2_raw.obs_names))\n",
    "adata_pl_2_raw.obs.loc[doublets_in_adata_pl_2_raw, 'status'] = 'doublet'\n",
    "adata_pl_2_raw=adata_pl_2_raw[(adata_pl_2_raw.obs['status'] == 'singlet') ]"
   ]
  },
  {
   "cell_type": "code",
   "execution_count": null,
   "metadata": {},
   "outputs": [],
   "source": [
    "adata_pl_1_raw_dob = adata_pl_1_raw[(adata_pl_1_raw.obs['status'] == 'doublet') ]\n",
    "cellid_soup=adata_pl_1_raw_dob.obs.index\n",
    "cellid_scvi=df_1[df_1['prediction']=='doublet'].index\n",
    "common_elements = set(cellid_scvi).intersection(cellid_soup)\n",
    "cellid_scvi = set(cellid_scvi)\n",
    "cellid_soup = set(cellid_soup)\n",
    "from matplotlib_venn import venn2\n",
    "import matplotlib.pyplot as plt\n",
    "venn2([cellid_scvi, cellid_soup], ('cellid_scvi', 'cellid_soup'))\n",
    "doublets= cellid_scvi.union(cellid_soup)\n",
    "doublets=list(doublets)"
   ]
  },
  {
   "cell_type": "code",
   "execution_count": null,
   "metadata": {},
   "outputs": [],
   "source": [
    "doublets_in_adata_pl_1_raw= list(set(doublets).intersection(adata_pl_1_raw.obs_names))\n",
    "adata_pl_1_raw.obs.loc[doublets_in_adata_pl_1_raw, 'status'] = 'doublet'\n",
    "adata_pl_1_raw=adata_pl_1_raw[adata_pl_1_raw.obs['status'] == 'singlet']\n",
    "\n",
    "#Rename the animals in the second spleen dataset to be 3 and 4\n",
    "adata_pl_2_raw.obs['assignment']=adata_pl_2_raw.obs['assignment'].replace({'1':'3','2':'4'})"
   ]
  },
  {
   "cell_type": "code",
   "execution_count": null,
   "metadata": {},
   "outputs": [],
   "source": [
    "#Integrate the two spleen datasets\n",
    "sc.pp.normalize_total(adata_pl_1_raw, target_sum=1e4)\n",
    "sc.pp.normalize_total(adata_pl_2_raw, target_sum=1e4)\n",
    "sc.pp.log1p(adata_pl_1_raw)\n",
    "sc.pp.log1p(adata_pl_2_raw)\n",
    "sc.pp.highly_variable_genes(adata_pl_1_raw, min_mean=0.0125, max_mean=3, min_disp=0.5)\n",
    "sc.pp.highly_variable_genes(adata_pl_2_raw, min_mean=0.0125, max_mean=3, min_disp=0.5)\n",
    "sc.pp.scale(adata_pl_1_raw, max_value=10)\n",
    "sc.pp.scale(adata_pl_2_raw, max_value=10)\n",
    "sc.tl.pca(adata_pl_1_raw, svd_solver='arpack')\n",
    "sc.pl.pca_variance_ratio(adata_pl_1_raw, log=True)\n",
    "sc.tl.pca(adata_pl_2_raw, svd_solver='arpack')\n",
    "sc.pl.pca_variance_ratio(adata_pl_2_raw, log=True)"
   ]
  },
  {
   "cell_type": "code",
   "execution_count": null,
   "metadata": {},
   "outputs": [],
   "source": [
    "#Clustering the data\n",
    "sc.pp.neighbors(adata_pl_1_raw, n_neighbors=30, n_pcs=40)\n",
    "sc.tl.umap(adata_pl_1_raw)\n",
    "sc.tl.leiden(adata_pl_1_raw,resolution=0.5)\n",
    "sc.pl.umap(adata_pl_1_raw, color=['leiden'])\n",
    "sc.pp.neighbors(adata_pl_2_raw, n_neighbors=30, n_pcs=30)\n",
    "sc.tl.umap(adata_pl_2_raw)\n",
    "sc.tl.leiden(adata_pl_2_raw,resolution=0.5)\n",
    "sc.pl.umap(adata_pl_2_raw, color=['leiden'])"
   ]
  },
  {
   "cell_type": "code",
   "execution_count": null,
   "metadata": {},
   "outputs": [],
   "source": [
    "#Integrate the two spleen datasets\n",
    "adata_pl_1_raw.var_names_make_unique()\n",
    "adata_pl_1_raw.obs[\"dataset\"]=\"1\"\n",
    "adata_pl_2_raw.var_names_make_unique()\n",
    "adata_pl_2_raw.obs[\"dataset\"]=\"2\"\n",
    "var_names= adata_pl_1_raw.var_names.intersection(adata_pl_2_raw.var_names)\n",
    "adata_pl_1_raw=adata_pl_1_raw[:,var_names]\n",
    "adata_pl_2_raw=adata_pl_2_raw[:,var_names]\n",
    "spleen_merged=adata_pl_1_raw.concatenate(adata_pl_2_raw)"
   ]
  },
  {
   "cell_type": "code",
   "execution_count": null,
   "metadata": {},
   "outputs": [],
   "source": [
    "#Batch correct using Harmony\n",
    "sc.external.pp.harmony_integrate(spleen_merged, ['assignment','dataset'])\n",
    "\n",
    "#Re cluster the integrated spleen dataset\n",
    "sc.pp.neighbors(spleen_merged, n_neighbors=30, n_pcs=30,use_rep='X_pca_harmony')\n",
    "sc.tl.umap(spleen_merged)\n",
    "sc.tl.leiden(spleen_merged,resolution=0.5)\n",
    "sc.pl.umap(spleen_merged, color=['leiden'])"
   ]
  }
 ],
 "metadata": {
  "language_info": {
   "name": "python"
  }
 },
 "nbformat": 4,
 "nbformat_minor": 2
}
