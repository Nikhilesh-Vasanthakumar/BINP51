{
 "cells": [
  {
   "cell_type": "code",
   "execution_count": null,
   "metadata": {},
   "outputs": [],
   "source": [
    "import anndata\n",
    "import matplotlib\n",
    "import matplotlib.pyplot as plt\n",
    "import numpy as np\n",
    "import pandas as pd\n",
    "import scanpy as sc\n",
    "\n",
    "matplotlib.rcParams.update({'font.size': 12})\n",
    "%config InlineBackend.figure_format = 'retina'\n",
    "\n",
    "#Load in the integrated spleen dataset\n",
    "adata_pl_raw=anndata.read_h5ad('/home/nikvaku/snic2022-6-312/LabMemberScratchDir/Nikhilesh/Inter_data/spleen_merged_raw.h5ad')"
   ]
  },
  {
   "cell_type": "code",
   "execution_count": 1,
   "metadata": {},
   "outputs": [
    {
     "ename": "NameError",
     "evalue": "name 'adata_pl_raw' is not defined",
     "output_type": "error",
     "traceback": [
      "\u001b[0;31m---------------------------------------------------------------------------\u001b[0m",
      "\u001b[0;31mNameError\u001b[0m                                 Traceback (most recent call last)",
      "Cell \u001b[0;32mIn[1], line 3\u001b[0m\n\u001b[1;32m      1\u001b[0m \u001b[38;5;66;03m#Subset for B cells\u001b[39;00m\n\u001b[0;32m----> 3\u001b[0m adata_b_cells\u001b[38;5;241m=\u001b[39m\u001b[43madata_pl_raw\u001b[49m[adata_pl_raw\u001b[38;5;241m.\u001b[39mobs[\u001b[38;5;124m'\u001b[39m\u001b[38;5;124mleiden_spleen\u001b[39m\u001b[38;5;124m'\u001b[39m]\u001b[38;5;241m.\u001b[39misin([\u001b[38;5;124m'\u001b[39m\u001b[38;5;124m0\u001b[39m\u001b[38;5;124m'\u001b[39m, \u001b[38;5;124m'\u001b[39m\u001b[38;5;124m5\u001b[39m\u001b[38;5;124m'\u001b[39m, \u001b[38;5;124m'\u001b[39m\u001b[38;5;124m7\u001b[39m\u001b[38;5;124m'\u001b[39m,\u001b[38;5;124m'\u001b[39m\u001b[38;5;124m1\u001b[39m\u001b[38;5;124m'\u001b[39m,\u001b[38;5;124m'\u001b[39m\u001b[38;5;124m8\u001b[39m\u001b[38;5;124m'\u001b[39m])]\n",
      "\u001b[0;31mNameError\u001b[0m: name 'adata_pl_raw' is not defined"
     ]
    }
   ],
   "source": [
    "#Subset for B cells\n",
    "\n",
    "adata_b_cells=adata_pl_raw[adata_pl_raw.obs['leiden_spleen'].isin(['0', '5', '7','1','8'])]"
   ]
  },
  {
   "cell_type": "code",
   "execution_count": null,
   "metadata": {},
   "outputs": [],
   "source": [
    "#Preprocess the data\n",
    "mt_gene_patterns = ['COX1', 'COX2', 'ATP8', 'ATP6', 'COX3', 'NU1M', 'NU2M', 'NU3M', 'NU4M', 'NU4LM', 'NU5M', 'NU6M', 'CYB']\n",
    "mt_gene_pattern = '|'.join(mt_gene_patterns)\n",
    "sc.pp.filter_cells(adata_b_cells, min_genes=400)\n",
    "sc.pp.filter_genes(adata_b_cells, min_cells=3)\n",
    "adata_b_cells.var['mt'] = adata_b_cells.var_names.str.match(mt_gene_pattern)\n",
    "sc.pp.calculate_qc_metrics(adata_b_cells, qc_vars=['mt'], percent_top=None, log1p=False, inplace=True)\n",
    "adata_b_cells = adata_b_cells[adata_b_cells.obs.pct_counts_mt < 10, :]\n",
    "adata_b_cells.var_names_make_unique()"
   ]
  },
  {
   "cell_type": "code",
   "execution_count": null,
   "metadata": {},
   "outputs": [],
   "source": [
    "#Normalize the data\n",
    "sc.pp.normalize_total(adata_b_cells, target_sum=1e4)\n",
    "sc.pp.log1p(adata_b_cells)\n",
    "sc.pp.scale(adata_b_cells, max_value=10)\n",
    "sc.pp.pca(adata_b_cells, n_comps=50,svd_solver='arpack')\n",
    "sc.pl.pca_variance_ratio(adata_b_cells, n_pcs=50)"
   ]
  },
  {
   "cell_type": "code",
   "execution_count": null,
   "metadata": {},
   "outputs": [],
   "source": [
    "#Clustering\n",
    "\n",
    "#UMAP\n",
    "sc.pp.neighbors(adata_b_cells, n_neighbors=10, n_pcs=20)\n",
    "sc.tl.umap(adata_b_cells)\n",
    "sc.pl.umap(adata_b_cells,color=['leiden_spleen'])"
   ]
  },
  {
   "cell_type": "code",
   "execution_count": null,
   "metadata": {},
   "outputs": [],
   "source": [
    "#DE analysis\n",
    "sc.tl.rank_genes_groups(adata_b_cells, 'leiden_spleen', method='wilcoxon')\n",
    "sc.pl.rank_genes_groups(adata_b_cells, n_genes=25, sharey=False)\n",
    "sc.tl.leiden(adata_b_cells, resolution=0.5)\n",
    "sc.pl.umap(adata_b_cells,color=['leiden','assignment'])"
   ]
  },
  {
   "cell_type": "code",
   "execution_count": null,
   "metadata": {},
   "outputs": [],
   "source": [
    "#Batch correction using Harmony\n",
    "sc.external.pp.harmony_integrate(adata_b_cells, key='assignment', max_iter_harmony=100)\n",
    "#Re Preprocess the data\n",
    "sc.pp.neighbors(adata_b_cells, n_neighbors=10, n_pcs=20,use_rep='X_pca_harmony')\n",
    "sc.tl.umap(adata_b_cells)\n",
    "sc.tl.leiden(adata_b_cells, resolution=0.5)\n",
    "sc.pl.umap(adata_b_cells,color=['leiden','leiden_spleen','assignment'])"
   ]
  },
  {
   "cell_type": "code",
   "execution_count": null,
   "metadata": {},
   "outputs": [],
   "source": [
    "#Remove cells in cluster 6,11\n",
    "adata_b_cells=adata_b_cells[adata_b_cells.obs['leiden'].isin(['0','1','2','3','5','7','4','8','9','10','12','13'])]\n",
    "#Recluster\n",
    "sc.pp.neighbors(adata_b_cells, n_neighbors=10, n_pcs=20)\n",
    "sc.tl.umap(adata_b_cells)\n",
    "sc.tl.leiden(adata_b_cells, resolution=0.5)\n",
    "#Batch correction using Harmony\n",
    "sc.external.pp.harmony_integrate(adata_b_cells, key='assignment', max_iter_harmony=100)\n",
    "#Re Preprocess the data\n",
    "sc.pp.neighbors(adata_b_cells, n_neighbors=10, n_pcs=20,use_rep='X_pca_harmony')\n",
    "sc.tl.umap(adata_b_cells)\n",
    "sc.tl.leiden(adata_b_cells, resolution=0.5)\n",
    "sc.pl.umap(adata_b_cells,color=['leiden','leiden_spleen','assignment'])\n",
    "#Plot the markers\n",
    "sc.pl.umap(adata_b_cells,color=['PTPRC','CD79A','CD79B','CD3E','leiden'],legend_loc='on data')\n",
    "#DE analysis\n",
    "sc.tl.rank_genes_groups(adata_b_cells, 'leiden', method='wilcoxon')\n",
    "sc.pl.rank_genes_groups(adata_b_cells, n_genes=25, sharey=False)"
   ]
  },
  {
   "cell_type": "code",
   "execution_count": null,
   "metadata": {},
   "outputs": [],
   "source": [
    "#Subset for T cells\n",
    "adata_t_cells=adata_pl_raw[adata_pl_raw.obs['leiden_spleen'].isin(['2','14','12'])]\n",
    "#Preprocess the data\n",
    "mt_gene_patterns = ['COX1', 'COX2', 'ATP8', 'ATP6', 'COX3', 'NU1M', 'NU2M', 'NU3M', 'NU4M', 'NU4LM', 'NU5M', 'NU6M', 'CYB']\n",
    "mt_gene_pattern = '|'.join(mt_gene_patterns)\n",
    "sc.pp.filter_cells(adata_t_cells, min_genes=400)\n",
    "sc.pp.filter_genes(adata_t_cells, min_cells=3)\n",
    "adata_t_cells.var['mt'] = adata_t_cells.var_names.str.match(mt_gene_pattern)\n",
    "sc.pp.calculate_qc_metrics(adata_t_cells, qc_vars=['mt'], percent_top=None, log1p=False, inplace=True)\n",
    "adata_t_cells = adata_t_cells[adata_t_cells.obs.pct_counts_mt < 10, :]\n",
    "adata_t_cells.var_names_make_unique()\n",
    "#Normalize the data\n",
    "sc.pp.normalize_total(adata_t_cells, target_sum=1e4)\n",
    "sc.pp.log1p(adata_t_cells)\n",
    "sc.pp.scale(adata_t_cells, max_value=10)\n",
    "sc.pp.pca(adata_t_cells, n_comps=50,svd_solver='arpack')\n",
    "sc.pl.pca_variance_ratio(adata_t_cells, n_pcs=50)\n",
    "#UMAP\n",
    "sc.pp.neighbors(adata_t_cells, n_neighbors=10, n_pcs=20)\n",
    "sc.tl.umap(adata_t_cells)\n",
    "sc.pl.umap(adata_t_cells,color=['leiden_spleen'])\n",
    "#DE analysis\n",
    "sc.tl.rank_genes_groups(adata_t_cells, 'leiden_spleen', method='wilcoxon')\n",
    "sc.pl.rank_genes_groups(adata_t_cells, n_genes=25, sharey=False)\n",
    "#Clustering again\n",
    "sc.tl.leiden(adata_t_cells, resolution=0.5)\n",
    "sc.pl.umap(adata_t_cells,color=['leiden','leiden_spleen','assignment'])"
   ]
  },
  {
   "cell_type": "code",
   "execution_count": null,
   "metadata": {},
   "outputs": [],
   "source": [
    "#Batch correction using Harmony\n",
    "sc.external.pp.harmony_integrate(adata_t_cells, key='assignment', max_iter_harmony=100)\n",
    "#Re Preprocess the data\n",
    "sc.pp.neighbors(adata_t_cells, n_neighbors=10, n_pcs=20,use_rep='X_pca_harmony')\n",
    "sc.tl.umap(adata_t_cells)\n",
    "sc.tl.leiden(adata_t_cells, resolution=0.5)\n",
    "sc.pl.umap(adata_t_cells,color=['leiden','leiden_spleen','assignment'],legend_loc='on data')"
   ]
  },
  {
   "cell_type": "code",
   "execution_count": null,
   "metadata": {},
   "outputs": [],
   "source": [
    "#Further subset for T cells based on T cell marker expression\n",
    "adata_t_cells=adata_t_cells[adata_t_cells.obs['leiden'].isin(['0','3','6','8','9','10','7'])]\n",
    "\n",
    "#Recluster after batch correction\n",
    "sc.external.pp.harmony_integrate(adata_t_cells, key='assignment', max_iter_harmony=100)\n",
    "sc.pp.neighbors(adata_t_cells, n_neighbors=10, n_pcs=20,use_rep='X_pca_harmony')\n",
    "sc.tl.umap(adata_t_cells)\n",
    "sc.tl.leiden(adata_t_cells, resolution=0.5)\n",
    "\n",
    "#DEG\n",
    "sc.tl.rank_genes_groups(adata_t_cells, 'leiden', method='wilcoxon')\n",
    "sc.pl.rank_genes_groups(adata_t_cells, n_genes=25, sharey=False)"
   ]
  },
  {
   "cell_type": "code",
   "execution_count": null,
   "metadata": {},
   "outputs": [],
   "source": [
    "adata_b_cells.write_h5ad('/home/nikvaku/snic2022-6-312/LabMemberScratchDir/Nikhilesh/Final_Data/spleen_b_cells.h5ad')\n",
    "adata_t_cells.write_h5ad('/home/nikvaku/snic2022-6-312/LabMemberScratchDir/Nikhilesh/Final_Data/spleen_t_cells.h5ad')"
   ]
  }
 ],
 "metadata": {
  "kernelspec": {
   "display_name": "SAMap Environment",
   "language": "python",
   "name": "samap"
  },
  "language_info": {
   "codemirror_mode": {
    "name": "ipython",
    "version": 3
   },
   "file_extension": ".py",
   "mimetype": "text/x-python",
   "name": "python",
   "nbconvert_exporter": "python",
   "pygments_lexer": "ipython3",
   "version": "3.9.18"
  }
 },
 "nbformat": 4,
 "nbformat_minor": 2
}
